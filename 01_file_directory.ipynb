{
  "nbformat": 4,
  "nbformat_minor": 0,
  "metadata": {
    "colab": {
      "name": "01_file_directory.ipynb",
      "version": "0.3.2",
      "provenance": [],
      "include_colab_link": true
    },
    "kernelspec": {
      "name": "python3",
      "display_name": "Python 3"
    }
  },
  "cells": [
    {
      "cell_type": "markdown",
      "metadata": {
        "id": "view-in-github",
        "colab_type": "text"
      },
      "source": [
        "<a href=\"https://colab.research.google.com/github/naomori/nsoft_pylib/blob/master/01_file_directory.ipynb\" target=\"_parent\"><img src=\"https://colab.research.google.com/assets/colab-badge.svg\" alt=\"Open In Colab\"/></a>"
      ]
    },
    {
      "cell_type": "markdown",
      "metadata": {
        "id": "5LaDnCQGmrsL",
        "colab_type": "text"
      },
      "source": [
        "# ファイルやディレクトリを操作するライブラリ\n",
        "\n",
        "os, shutils を中心に扱います。\n",
        "* 大量のフォルダーの作成\n",
        "* ファイルの移動・リネーム\n",
        "\n",
        "など。"
      ]
    },
    {
      "cell_type": "markdown",
      "metadata": {
        "id": "EPj4xOmim7Dv",
        "colab_type": "text"
      },
      "source": [
        "# 複数階層のディレクトリをまとめて作成\n",
        "\n",
        "#### os.makedirs 関数\n",
        "ディレクトリを作成します。\n",
        "os.mkdir があるけど、os.makedirs なら複数のディレクトリを作れます。\n",
        "\n"
      ]
    },
    {
      "cell_type": "code",
      "metadata": {
        "id": "u2T7xnvamaUX",
        "colab_type": "code",
        "colab": {
          "base_uri": "https://localhost:8080/",
          "height": 34
        },
        "outputId": "2838f2cb-9377-4931-838f-d36f03d1a9b1"
      },
      "source": [
        "!ls"
      ],
      "execution_count": 5,
      "outputs": [
        {
          "output_type": "stream",
          "text": [
            "sample_data\n"
          ],
          "name": "stdout"
        }
      ]
    },
    {
      "cell_type": "code",
      "metadata": {
        "id": "WFz7yqyVnIKD",
        "colab_type": "code",
        "colab": {}
      },
      "source": [
        "import os"
      ],
      "execution_count": 0,
      "outputs": []
    },
    {
      "cell_type": "code",
      "metadata": {
        "id": "totpCZ4wnc8_",
        "colab_type": "code",
        "colab": {}
      },
      "source": [
        "os.makedirs(\"test\")"
      ],
      "execution_count": 0,
      "outputs": []
    },
    {
      "cell_type": "code",
      "metadata": {
        "id": "Ta6-fd-Ynjyv",
        "colab_type": "code",
        "colab": {
          "base_uri": "https://localhost:8080/",
          "height": 34
        },
        "outputId": "d61843b9-17ef-4b19-c4f6-dabe2223cc1e"
      },
      "source": [
        "!ls"
      ],
      "execution_count": 8,
      "outputs": [
        {
          "output_type": "stream",
          "text": [
            "sample_data  test\n"
          ],
          "name": "stdout"
        }
      ]
    },
    {
      "cell_type": "code",
      "metadata": {
        "id": "7MRfm4H7nkcv",
        "colab_type": "code",
        "colab": {
          "base_uri": "https://localhost:8080/",
          "height": 292
        },
        "outputId": "70047304-8669-40ea-dbec-d45f853c9a2c"
      },
      "source": [
        "os.makedirs(\"test\")"
      ],
      "execution_count": 10,
      "outputs": [
        {
          "output_type": "error",
          "ename": "FileExistsError",
          "evalue": "ignored",
          "traceback": [
            "\u001b[0;31m---------------------------------------------------------------------------\u001b[0m",
            "\u001b[0;31mFileExistsError\u001b[0m                           Traceback (most recent call last)",
            "\u001b[0;32m<ipython-input-10-8d6e82f75392>\u001b[0m in \u001b[0;36m<module>\u001b[0;34m()\u001b[0m\n\u001b[0;32m----> 1\u001b[0;31m \u001b[0mos\u001b[0m\u001b[0;34m.\u001b[0m\u001b[0mmakedirs\u001b[0m\u001b[0;34m(\u001b[0m\u001b[0;34m\"test\"\u001b[0m\u001b[0;34m)\u001b[0m\u001b[0;34m\u001b[0m\u001b[0;34m\u001b[0m\u001b[0m\n\u001b[0m",
            "\u001b[0;32m/usr/lib/python3.6/os.py\u001b[0m in \u001b[0;36mmakedirs\u001b[0;34m(name, mode, exist_ok)\u001b[0m\n\u001b[1;32m    218\u001b[0m             \u001b[0;32mreturn\u001b[0m\u001b[0;34m\u001b[0m\u001b[0;34m\u001b[0m\u001b[0m\n\u001b[1;32m    219\u001b[0m     \u001b[0;32mtry\u001b[0m\u001b[0;34m:\u001b[0m\u001b[0;34m\u001b[0m\u001b[0;34m\u001b[0m\u001b[0m\n\u001b[0;32m--> 220\u001b[0;31m         \u001b[0mmkdir\u001b[0m\u001b[0;34m(\u001b[0m\u001b[0mname\u001b[0m\u001b[0;34m,\u001b[0m \u001b[0mmode\u001b[0m\u001b[0;34m)\u001b[0m\u001b[0;34m\u001b[0m\u001b[0;34m\u001b[0m\u001b[0m\n\u001b[0m\u001b[1;32m    221\u001b[0m     \u001b[0;32mexcept\u001b[0m \u001b[0mOSError\u001b[0m\u001b[0;34m:\u001b[0m\u001b[0;34m\u001b[0m\u001b[0;34m\u001b[0m\u001b[0m\n\u001b[1;32m    222\u001b[0m         \u001b[0;31m# Cannot rely on checking for EEXIST, since the operating system\u001b[0m\u001b[0;34m\u001b[0m\u001b[0;34m\u001b[0m\u001b[0;34m\u001b[0m\u001b[0m\n",
            "\u001b[0;31mFileExistsError\u001b[0m: [Errno 17] File exists: 'test'"
          ]
        }
      ]
    },
    {
      "cell_type": "code",
      "metadata": {
        "id": "1KXYAzd2nnf4",
        "colab_type": "code",
        "colab": {}
      },
      "source": [
        "os.makedirs(\"test\", exist_ok=True)"
      ],
      "execution_count": 0,
      "outputs": []
    },
    {
      "cell_type": "markdown",
      "metadata": {
        "id": "IZF3Njl0n5CY",
        "colab_type": "text"
      },
      "source": [
        "# ファイルのコピー\n",
        "\n",
        "shutil.copy 関数を使います。  \n",
        "コピー元の時刻を変えずにコピーしたい場合は、\n",
        "shutil.copy2 関数を使います。\n"
      ]
    },
    {
      "cell_type": "code",
      "metadata": {
        "id": "_4YnG7hmnrNs",
        "colab_type": "code",
        "colab": {}
      },
      "source": [
        "import shutil"
      ],
      "execution_count": 0,
      "outputs": []
    },
    {
      "cell_type": "code",
      "metadata": {
        "id": "VGx2HeqSoArC",
        "colab_type": "code",
        "colab": {
          "base_uri": "https://localhost:8080/",
          "height": 69
        },
        "outputId": "d8355dba-dd10-4cf5-b04a-987ee0bc2160"
      },
      "source": [
        "!ls sample_data"
      ],
      "execution_count": 14,
      "outputs": [
        {
          "output_type": "stream",
          "text": [
            "anscombe.json\t\t      mnist_test.csv\n",
            "california_housing_test.csv   mnist_train_small.csv\n",
            "california_housing_train.csv  README.md\n"
          ],
          "name": "stdout"
        }
      ]
    },
    {
      "cell_type": "code",
      "metadata": {
        "id": "ttZ1WNMNoDvF",
        "colab_type": "code",
        "colab": {
          "base_uri": "https://localhost:8080/",
          "height": 348
        },
        "outputId": "5c35bac3-c318-47c3-aef1-7dcde5a91d27"
      },
      "source": [
        "!cat sample_data/README.md"
      ],
      "execution_count": 15,
      "outputs": [
        {
          "output_type": "stream",
          "text": [
            "This directory includes a few sample datasets to get you started.\n",
            "\n",
            "*   `california_housing_data*.csv` is California housing data from the 1990 US\n",
            "    Census; more information is available at:\n",
            "    https://developers.google.com/machine-learning/crash-course/california-housing-data-description\n",
            "\n",
            "*   `mnist_*.csv` is a small sample of the\n",
            "    [MNIST database](https://en.wikipedia.org/wiki/MNIST_database), which is\n",
            "    described at: http://yann.lecun.com/exdb/mnist/\n",
            "\n",
            "*   `anscombe.json` contains a copy of\n",
            "    [Anscombe's quartet](https://en.wikipedia.org/wiki/Anscombe%27s_quartet); it\n",
            "    was originally described in\n",
            "\n",
            "    Anscombe, F. J. (1973). 'Graphs in Statistical Analysis'. American\n",
            "    Statistician. 27 (1): 17-21. JSTOR 2682899.\n",
            "\n",
            "    and our copy was prepared by the\n",
            "    [vega_datasets library](https://github.com/altair-viz/vega_datasets/blob/4f67bdaad10f45e3549984e17e1b3088c731503d/vega_datasets/_data/anscombe.json).\n"
          ],
          "name": "stdout"
        }
      ]
    },
    {
      "cell_type": "code",
      "metadata": {
        "id": "yGR6TNfKoPuY",
        "colab_type": "code",
        "colab": {
          "base_uri": "https://localhost:8080/",
          "height": 34
        },
        "outputId": "b8d2ad5f-3f49-4e37-bbbe-4df587130e7e"
      },
      "source": [
        "shutil.copy(\"sample_data/README.md\", \"test\")"
      ],
      "execution_count": 16,
      "outputs": [
        {
          "output_type": "execute_result",
          "data": {
            "text/plain": [
              "'test/README.md'"
            ]
          },
          "metadata": {
            "tags": []
          },
          "execution_count": 16
        }
      ]
    },
    {
      "cell_type": "code",
      "metadata": {
        "id": "zuUT2qlfoY3O",
        "colab_type": "code",
        "colab": {
          "base_uri": "https://localhost:8080/",
          "height": 34
        },
        "outputId": "7d527b46-93dd-4c54-f3cd-778559c827fe"
      },
      "source": [
        "!ls test"
      ],
      "execution_count": 17,
      "outputs": [
        {
          "output_type": "stream",
          "text": [
            "README.md\n"
          ],
          "name": "stdout"
        }
      ]
    },
    {
      "cell_type": "code",
      "metadata": {
        "id": "sfcABs72oa37",
        "colab_type": "code",
        "colab": {
          "base_uri": "https://localhost:8080/",
          "height": 34
        },
        "outputId": "14338ad7-c108-40cb-fc84-693034e10562"
      },
      "source": [
        "shutil.copy(\"sample_data/README.md\", \"test/copy.md\")"
      ],
      "execution_count": 18,
      "outputs": [
        {
          "output_type": "execute_result",
          "data": {
            "text/plain": [
              "'test/copy.md'"
            ]
          },
          "metadata": {
            "tags": []
          },
          "execution_count": 18
        }
      ]
    },
    {
      "cell_type": "code",
      "metadata": {
        "id": "UinKtHkRokUU",
        "colab_type": "code",
        "colab": {
          "base_uri": "https://localhost:8080/",
          "height": 34
        },
        "outputId": "544bba56-de69-4410-9725-bc275ac5faf0"
      },
      "source": [
        "!ls test"
      ],
      "execution_count": 19,
      "outputs": [
        {
          "output_type": "stream",
          "text": [
            "copy.md  README.md\n"
          ],
          "name": "stdout"
        }
      ]
    },
    {
      "cell_type": "markdown",
      "metadata": {
        "id": "0J_UUqwPo8D9",
        "colab_type": "text"
      },
      "source": [
        "# ディレクトリのコピー\n",
        "\n",
        "ディレクトリのコピーには、shutil.copytree を使います。"
      ]
    },
    {
      "cell_type": "code",
      "metadata": {
        "id": "ZRTqtgTcolE4",
        "colab_type": "code",
        "colab": {
          "base_uri": "https://localhost:8080/",
          "height": 34
        },
        "outputId": "1622f8ce-2bb3-4959-d025-87afa23fea9b"
      },
      "source": [
        "shutil.copytree(\"test\", \"test_copy\")"
      ],
      "execution_count": 20,
      "outputs": [
        {
          "output_type": "execute_result",
          "data": {
            "text/plain": [
              "'test_copy'"
            ]
          },
          "metadata": {
            "tags": []
          },
          "execution_count": 20
        }
      ]
    },
    {
      "cell_type": "code",
      "metadata": {
        "id": "RsWCFqPZpFX5",
        "colab_type": "code",
        "colab": {
          "base_uri": "https://localhost:8080/",
          "height": 34
        },
        "outputId": "972da39b-3362-4472-af42-79bc0e1412b3"
      },
      "source": [
        "!ls test_copy"
      ],
      "execution_count": 21,
      "outputs": [
        {
          "output_type": "stream",
          "text": [
            "copy.md  README.md\n"
          ],
          "name": "stdout"
        }
      ]
    },
    {
      "cell_type": "markdown",
      "metadata": {
        "id": "0AX4t1F4pSKb",
        "colab_type": "text"
      },
      "source": [
        "# ファイル/ディレクトリの移動\n",
        "\n",
        "ファイルやディレクトリの移動には、shutil.move を使います。"
      ]
    },
    {
      "cell_type": "code",
      "metadata": {
        "id": "W4owqTHWpGSw",
        "colab_type": "code",
        "colab": {
          "base_uri": "https://localhost:8080/",
          "height": 52
        },
        "outputId": "23eeeba8-7fec-479c-aae0-e2699785c9b6"
      },
      "source": [
        "!ls\n",
        "shutil.move(\"test_copy\", \"test_move\")\n",
        "!ls"
      ],
      "execution_count": 22,
      "outputs": [
        {
          "output_type": "stream",
          "text": [
            "sample_data  test  test_copy\n",
            "sample_data  test  test_move\n"
          ],
          "name": "stdout"
        }
      ]
    },
    {
      "cell_type": "markdown",
      "metadata": {
        "id": "tRGwY3cQpiv3",
        "colab_type": "text"
      },
      "source": [
        "# ファイル/ディレクトリのリネーム\n",
        "\n",
        "ファイルやディレクトリのリネームには、shutil.rename を使います。"
      ]
    },
    {
      "cell_type": "code",
      "metadata": {
        "id": "dGzQa2-Gpb_u",
        "colab_type": "code",
        "colab": {
          "base_uri": "https://localhost:8080/",
          "height": 52
        },
        "outputId": "d4641061-de9c-43ea-913c-a24343c9f209"
      },
      "source": [
        "!ls\n",
        "shutil.move(\"test_move\", \"test_rename\")\n",
        "!ls"
      ],
      "execution_count": 23,
      "outputs": [
        {
          "output_type": "stream",
          "text": [
            "sample_data  test  test_move\n",
            "sample_data  test  test_rename\n"
          ],
          "name": "stdout"
        }
      ]
    },
    {
      "cell_type": "markdown",
      "metadata": {
        "id": "lwIg_Oz7p60G",
        "colab_type": "text"
      },
      "source": [
        "# ファイル/ディレクトリの削除\n",
        "\n",
        "ファイルの削除は、os.remove 関数を使います。\n",
        "ディレクトリの削除は、shutil.rmtree 関数を使います。"
      ]
    },
    {
      "cell_type": "code",
      "metadata": {
        "id": "gtwYAmgBprEt",
        "colab_type": "code",
        "colab": {
          "base_uri": "https://localhost:8080/",
          "height": 52
        },
        "outputId": "bdec6cfb-d97d-4d9f-ad32-98677e866ee6"
      },
      "source": [
        "!ls test_rename\n",
        "os.remove(\"test_rename/copy.md\")\n",
        "!ls test_rename"
      ],
      "execution_count": 24,
      "outputs": [
        {
          "output_type": "stream",
          "text": [
            "copy.md  README.md\n",
            "README.md\n"
          ],
          "name": "stdout"
        }
      ]
    },
    {
      "cell_type": "code",
      "metadata": {
        "id": "nu-gdMdrqNVT",
        "colab_type": "code",
        "colab": {
          "base_uri": "https://localhost:8080/",
          "height": 52
        },
        "outputId": "9117d589-b38c-405e-d1c1-d26d8d0ab7fd"
      },
      "source": [
        "!ls\n",
        "shutil.rmtree(\"test_rename\")\n",
        "!ls"
      ],
      "execution_count": 25,
      "outputs": [
        {
          "output_type": "stream",
          "text": [
            "sample_data  test  test_rename\n",
            "sample_data  test\n"
          ],
          "name": "stdout"
        }
      ]
    },
    {
      "cell_type": "markdown",
      "metadata": {
        "id": "J0LMad4kqVVc",
        "colab_type": "text"
      },
      "source": [
        "# パスの組み立てに重宝する関数\n",
        "\n",
        "パスの組み立てに便利なのは、os.path.join 関数です。\n",
        "パスの区切り文字はOSで異なることもありますが、この関数はそれを吸収してくれます。"
      ]
    },
    {
      "cell_type": "code",
      "metadata": {
        "id": "Wplv-OKhqSs_",
        "colab_type": "code",
        "colab": {
          "base_uri": "https://localhost:8080/",
          "height": 34
        },
        "outputId": "47876416-faba-49dd-8b66-0f43f45d5899"
      },
      "source": [
        "os.path.join(\"test\", \"README.md\")"
      ],
      "execution_count": 26,
      "outputs": [
        {
          "output_type": "execute_result",
          "data": {
            "text/plain": [
              "'test/README.md'"
            ]
          },
          "metadata": {
            "tags": []
          },
          "execution_count": 26
        }
      ]
    },
    {
      "cell_type": "code",
      "metadata": {
        "id": "VZdAzoFuqw7c",
        "colab_type": "code",
        "colab": {
          "base_uri": "https://localhost:8080/",
          "height": 34
        },
        "outputId": "75ad5fe3-a5f2-41c3-c69c-1dc25ba4c721"
      },
      "source": [
        "shutil.copytree(\"test\", \"test/test_copy\")\n",
        "!ls test"
      ],
      "execution_count": 27,
      "outputs": [
        {
          "output_type": "stream",
          "text": [
            "copy.md  README.md  test_copy\n"
          ],
          "name": "stdout"
        }
      ]
    },
    {
      "cell_type": "code",
      "metadata": {
        "id": "IfTo7GBuq8b8",
        "colab_type": "code",
        "colab": {
          "base_uri": "https://localhost:8080/",
          "height": 34
        },
        "outputId": "c8a22ff8-fd76-4531-9793-e6e4c7a2975f"
      },
      "source": [
        "os.path.join(\"test\", \"test_copy\", \"copy.md\")"
      ],
      "execution_count": 28,
      "outputs": [
        {
          "output_type": "execute_result",
          "data": {
            "text/plain": [
              "'test/test_copy/copy.md'"
            ]
          },
          "metadata": {
            "tags": []
          },
          "execution_count": 28
        }
      ]
    },
    {
      "cell_type": "markdown",
      "metadata": {
        "id": "HzJk4-21rDrT",
        "colab_type": "text"
      },
      "source": [
        "# パスを分割した文字列を取得\n",
        "\n",
        "パスの文字列を分割したり抽出したりする関数が os.path にあります。\n",
        "* os.path.split 関数は、パスを最後の要素と、それより前の部分に分割します。\n",
        "* os.path.splitext 関数は、最後の要素の拡張子と、それより前の部分に分割します。"
      ]
    },
    {
      "cell_type": "code",
      "metadata": {
        "id": "JP9Ku1E9rBgs",
        "colab_type": "code",
        "colab": {
          "base_uri": "https://localhost:8080/",
          "height": 34
        },
        "outputId": "90dd9a0b-d8ad-43d8-8d28-bda2a45c80c1"
      },
      "source": [
        "file_path = os.path.join(\"test\", \"test_copy\", \"copy.md\")\n",
        "path,file = os.path.split(file_path)\n",
        "print(\"path:%s \\\"/\\\" file:%s\" % (path, file))"
      ],
      "execution_count": 32,
      "outputs": [
        {
          "output_type": "stream",
          "text": [
            "path:test/test_copy \"/\" file:copy.md\n"
          ],
          "name": "stdout"
        }
      ]
    },
    {
      "cell_type": "code",
      "metadata": {
        "id": "TBP4n8sjreGu",
        "colab_type": "code",
        "colab": {
          "base_uri": "https://localhost:8080/",
          "height": 34
        },
        "outputId": "9d34d5af-6249-4b11-fa95-e4ba9a726237"
      },
      "source": [
        "file_path = os.path.join(\"test\", \"test_copy\", \"copy.md\")\n",
        "path,ext = os.path.splitext(file_path)\n",
        "print(\"path:%s \\\"/\\\" ext:%s\" % (path, ext))"
      ],
      "execution_count": 33,
      "outputs": [
        {
          "output_type": "stream",
          "text": [
            "path:test/test_copy/copy \"/\" ext:.md\n"
          ],
          "name": "stdout"
        }
      ]
    },
    {
      "cell_type": "markdown",
      "metadata": {
        "id": "2LP5uBxOsC8g",
        "colab_type": "text"
      },
      "source": [
        "# パスを分割した片方のみを抽出\n",
        "\n",
        "* os.path.basename 関数は、パスの文字列の最後の要素のみを取り出して返す\n",
        "* os.path.dirname 関数は、パスの文字列の最後の要素より前の部分のみを抽出する"
      ]
    },
    {
      "cell_type": "code",
      "metadata": {
        "id": "QlWaZLx5r-Hb",
        "colab_type": "code",
        "colab": {
          "base_uri": "https://localhost:8080/",
          "height": 34
        },
        "outputId": "97146955-d59c-40c3-8917-236d016b5f3e"
      },
      "source": [
        "file_path = os.path.join(\"test\", \"test_copy\", \"copy.md\")\n",
        "file_name = os.path.basename(file_path)\n",
        "print(file_name)"
      ],
      "execution_count": 34,
      "outputs": [
        {
          "output_type": "stream",
          "text": [
            "copy.md\n"
          ],
          "name": "stdout"
        }
      ]
    },
    {
      "cell_type": "code",
      "metadata": {
        "id": "F3ZCnucOsXzx",
        "colab_type": "code",
        "colab": {
          "base_uri": "https://localhost:8080/",
          "height": 34
        },
        "outputId": "cf0f5a84-bcd1-4f24-c9b0-7ad500c3d741"
      },
      "source": [
        "file_path = os.path.join(\"test\", \"test_copy\", \"copy.md\")\n",
        "dir_name = os.path.dirname(file_path)\n",
        "#print(dir_name)"
      ],
      "execution_count": 36,
      "outputs": [
        {
          "output_type": "stream",
          "text": [
            "test/test_copy\n"
          ],
          "name": "stdout"
        }
      ]
    },
    {
      "cell_type": "markdown",
      "metadata": {
        "id": "Q5tm2Ei4so-5",
        "colab_type": "text"
      },
      "source": [
        "# ファイル / ディレクトリの存在を調べる\n",
        "\n",
        "* os.path.isfile 関数は、ファイルの存在を調べる\n",
        "  - 同名のディレクトリがあっても False を返す\n",
        "* os.path.isdir 関数は、ディレクトリの存在を調べる\n",
        "  - 同名のファイルがあっても False を返す\n",
        "* os.path.exists 関数は、ファイル/ディレクトリの存在を調べる\n",
        "  - ファイルでもディレクトリでもあれば True を返す\n",
        "  "
      ]
    },
    {
      "cell_type": "code",
      "metadata": {
        "id": "ERpnXlagsksT",
        "colab_type": "code",
        "colab": {
          "base_uri": "https://localhost:8080/",
          "height": 52
        },
        "outputId": "93b9131f-5a72-43dc-a686-5382e6d6f1b0"
      },
      "source": [
        "!ls test\n",
        "os.path.isfile(\"test/README.md\")"
      ],
      "execution_count": 38,
      "outputs": [
        {
          "output_type": "stream",
          "text": [
            "copy.md  README.md  test_copy\n"
          ],
          "name": "stdout"
        },
        {
          "output_type": "execute_result",
          "data": {
            "text/plain": [
              "True"
            ]
          },
          "metadata": {
            "tags": []
          },
          "execution_count": 38
        }
      ]
    },
    {
      "cell_type": "code",
      "metadata": {
        "id": "ru__6M1stCBN",
        "colab_type": "code",
        "colab": {
          "base_uri": "https://localhost:8080/",
          "height": 34
        },
        "outputId": "23611b93-9f75-4f80-c495-356d4a4ac325"
      },
      "source": [
        "os.path.isdir(\"test\")"
      ],
      "execution_count": 39,
      "outputs": [
        {
          "output_type": "execute_result",
          "data": {
            "text/plain": [
              "True"
            ]
          },
          "metadata": {
            "tags": []
          },
          "execution_count": 39
        }
      ]
    },
    {
      "cell_type": "code",
      "metadata": {
        "id": "G-f5HdmktGpu",
        "colab_type": "code",
        "colab": {
          "base_uri": "https://localhost:8080/",
          "height": 34
        },
        "outputId": "4048e8d2-c769-434b-8254-72be89916c46"
      },
      "source": [
        "os.path.isfile(\"test/hoge.md\")"
      ],
      "execution_count": 42,
      "outputs": [
        {
          "output_type": "execute_result",
          "data": {
            "text/plain": [
              "False"
            ]
          },
          "metadata": {
            "tags": []
          },
          "execution_count": 42
        }
      ]
    },
    {
      "cell_type": "code",
      "metadata": {
        "id": "VB72Qx0Yti2A",
        "colab_type": "code",
        "colab": {
          "base_uri": "https://localhost:8080/",
          "height": 34
        },
        "outputId": "61b82fe1-0a1c-4367-cf3b-34f589825b74"
      },
      "source": [
        "os.path.isfile(\"test\")"
      ],
      "execution_count": 43,
      "outputs": [
        {
          "output_type": "execute_result",
          "data": {
            "text/plain": [
              "False"
            ]
          },
          "metadata": {
            "tags": []
          },
          "execution_count": 43
        }
      ]
    },
    {
      "cell_type": "code",
      "metadata": {
        "id": "wZLzf4HutLC5",
        "colab_type": "code",
        "colab": {
          "base_uri": "https://localhost:8080/",
          "height": 34
        },
        "outputId": "b48dc4bd-51f6-466d-9b00-815bb17fe43e"
      },
      "source": [
        "os.path.isdir(\"hoge\")"
      ],
      "execution_count": 41,
      "outputs": [
        {
          "output_type": "execute_result",
          "data": {
            "text/plain": [
              "False"
            ]
          },
          "metadata": {
            "tags": []
          },
          "execution_count": 41
        }
      ]
    },
    {
      "cell_type": "code",
      "metadata": {
        "id": "cKc-jFbltNc2",
        "colab_type": "code",
        "colab": {
          "base_uri": "https://localhost:8080/",
          "height": 34
        },
        "outputId": "c13af2a7-80b5-469c-d3d5-613e2c692390"
      },
      "source": [
        "os.path.isdir(\"test/README.md\")"
      ],
      "execution_count": 44,
      "outputs": [
        {
          "output_type": "execute_result",
          "data": {
            "text/plain": [
              "False"
            ]
          },
          "metadata": {
            "tags": []
          },
          "execution_count": 44
        }
      ]
    },
    {
      "cell_type": "code",
      "metadata": {
        "id": "hW76U6Oftn7W",
        "colab_type": "code",
        "colab": {
          "base_uri": "https://localhost:8080/",
          "height": 34
        },
        "outputId": "88677877-f02e-4bb4-93f8-740352c87533"
      },
      "source": [
        "os.path.exists(\"test\")"
      ],
      "execution_count": 45,
      "outputs": [
        {
          "output_type": "execute_result",
          "data": {
            "text/plain": [
              "True"
            ]
          },
          "metadata": {
            "tags": []
          },
          "execution_count": 45
        }
      ]
    },
    {
      "cell_type": "code",
      "metadata": {
        "id": "xh-Iwdowt2AY",
        "colab_type": "code",
        "colab": {
          "base_uri": "https://localhost:8080/",
          "height": 34
        },
        "outputId": "d314b378-cc8a-44e6-ed5e-32d59e4c8a25"
      },
      "source": [
        "os.path.exists(\"test/README.md\")"
      ],
      "execution_count": 48,
      "outputs": [
        {
          "output_type": "execute_result",
          "data": {
            "text/plain": [
              "True"
            ]
          },
          "metadata": {
            "tags": []
          },
          "execution_count": 48
        }
      ]
    },
    {
      "cell_type": "code",
      "metadata": {
        "id": "KqIBZ3t_t4C9",
        "colab_type": "code",
        "colab": {
          "base_uri": "https://localhost:8080/",
          "height": 34
        },
        "outputId": "d16b7629-7bd1-4eba-adfe-5ddec73f840d"
      },
      "source": [
        "os.path.exists(\"test/test\")"
      ],
      "execution_count": 49,
      "outputs": [
        {
          "output_type": "execute_result",
          "data": {
            "text/plain": [
              "False"
            ]
          },
          "metadata": {
            "tags": []
          },
          "execution_count": 49
        }
      ]
    },
    {
      "cell_type": "markdown",
      "metadata": {
        "id": "aJE7AZWst_rF",
        "colab_type": "text"
      },
      "source": [
        "# ディレクトリの中身を調べる\n",
        "\n",
        "* os.listdir 関数により指定したディレクトリに含まれるファイルとフォルダの名前のリストを返す\n",
        "  - 順番はアルファベット順になる"
      ]
    },
    {
      "cell_type": "code",
      "metadata": {
        "id": "s8mZ_0fNt9_s",
        "colab_type": "code",
        "colab": {
          "base_uri": "https://localhost:8080/",
          "height": 34
        },
        "outputId": "d1ad40a8-6a78-4cec-8aee-a3f558f60a1d"
      },
      "source": [
        "os.listdir(\"test\")"
      ],
      "execution_count": 50,
      "outputs": [
        {
          "output_type": "execute_result",
          "data": {
            "text/plain": [
              "['README.md', 'copy.md', 'test_copy']"
            ]
          },
          "metadata": {
            "tags": []
          },
          "execution_count": 50
        }
      ]
    },
    {
      "cell_type": "markdown",
      "metadata": {
        "id": "-XYqumSEufA9",
        "colab_type": "text"
      },
      "source": [
        "* glob.glob 関数は、パターンマッチングによって必要な名前のリストを返す\n",
        "  - パターンマッチングには正規表現が使えます"
      ]
    },
    {
      "cell_type": "code",
      "metadata": {
        "id": "h-qeCsvwuNVU",
        "colab_type": "code",
        "colab": {
          "base_uri": "https://localhost:8080/",
          "height": 34
        },
        "outputId": "b65bff8e-280c-4c27-c7ef-209f090ca1ad"
      },
      "source": [
        "import glob\n",
        "glob.glob('test/*.md')"
      ],
      "execution_count": 59,
      "outputs": [
        {
          "output_type": "execute_result",
          "data": {
            "text/plain": [
              "['test/README.md', 'test/copy.md']"
            ]
          },
          "metadata": {
            "tags": []
          },
          "execution_count": 59
        }
      ]
    },
    {
      "cell_type": "markdown",
      "metadata": {
        "id": "1tspP2NsvJn_",
        "colab_type": "text"
      },
      "source": [
        "# ディレクトリの中身をすべて調べる\n",
        "\n",
        "* os.walk 関数は、指定したディレクトリのサブディレクトリの中身も調べます\n",
        "  - 結果は、(dirpath, dirnames, filenames)\n",
        "  - dirpath: 走査したディレクトリ名\n",
        "  - dirname: サブディレクトリ名のリスト\n",
        "  - filenames: ファイル名のリスト\n",
        "  \n",
        "  topdown 引数により以下の挙動が変わります。\n",
        "  * True: 最上位のディレクトリから走査し、サブディレクトリに移る\n",
        "  * False: ボトムアップで走査"
      ]
    },
    {
      "cell_type": "code",
      "metadata": {
        "id": "58VNYCdtupi7",
        "colab_type": "code",
        "colab": {
          "base_uri": "https://localhost:8080/",
          "height": 52
        },
        "outputId": "fd85667f-b916-4f27-fc9b-417aecf99c1a"
      },
      "source": [
        "for tpl in os.walk(\"test\"):\n",
        "  print(tpl)"
      ],
      "execution_count": 64,
      "outputs": [
        {
          "output_type": "stream",
          "text": [
            "('test', ['test_copy'], ['README.md', 'copy.md'])\n",
            "('test/test_copy', [], ['README.md', 'copy.md'])\n"
          ],
          "name": "stdout"
        }
      ]
    },
    {
      "cell_type": "code",
      "metadata": {
        "id": "O350vTYVvt1v",
        "colab_type": "code",
        "colab": {
          "base_uri": "https://localhost:8080/",
          "height": 52
        },
        "outputId": "e2aaabfc-c57d-409a-8116-3b9897891640"
      },
      "source": [
        "for tpl in os.walk(\"test\", topdown=False):\n",
        "  print(tpl)"
      ],
      "execution_count": 65,
      "outputs": [
        {
          "output_type": "stream",
          "text": [
            "('test/test_copy', [], ['README.md', 'copy.md'])\n",
            "('test', ['test_copy'], ['README.md', 'copy.md'])\n"
          ],
          "name": "stdout"
        }
      ]
    },
    {
      "cell_type": "code",
      "metadata": {
        "id": "kxu_6Sl8wYkl",
        "colab_type": "code",
        "colab": {}
      },
      "source": [
        ""
      ],
      "execution_count": 0,
      "outputs": []
    }
  ]
}